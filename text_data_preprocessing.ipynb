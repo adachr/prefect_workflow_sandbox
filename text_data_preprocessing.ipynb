{
 "cells": [
  {
   "cell_type": "markdown",
   "metadata": {
    "colab_type": "text",
    "id": "u1gMkvvvZlJ5"
   },
   "source": [
    "The goal of preprocessing text data is to take the data from its raw, readable form to a format that the computer can more easily work with. Most text data \n",
    "arrive as strings of text. Preprocessing is all the work that takes the raw input data and prepares it for insertion into a model."
   ]
  },
  {
   "cell_type": "markdown",
   "metadata": {
    "colab_type": "text",
    "id": "EqD06dBSZ3SO"
   },
   "source": [
    "Data source: https://www.kaggle.com/c/nlp-getting-started  \n",
    "Useful commands for text processing in Python: https://www.kaggle.com/vanshjatana/a-simple-guide-to-text-cleaning\n",
    "\n",
    "This Kaggle dataset consists of tweets that use disaster-related language. The goal is to create a classifier that can determine if a tweet that contains disaster-related language is actually about a disaster or is using that same language for a different, non-emergency purpose.\n",
    "Notebook steps consists of data import, data exploration, preprocessing, model training, and presenting results"
   ]
  },
  {
   "cell_type": "markdown",
   "metadata": {
    "colab_type": "text",
    "id": "rKMWs_H6bDCo"
   },
   "source": [
    "Let's start from importing libraries"
   ]
  },
  {
   "cell_type": "code",
   "execution_count": 1,
   "metadata": {
    "colab": {
     "base_uri": "https://localhost:8080/",
     "height": 136
    },
    "colab_type": "code",
    "id": "yxS_2dm2ZLdj",
    "outputId": "a178897a-425d-4af5-e9fc-a4672f0d16bb"
   },
   "outputs": [
    {
     "name": "stderr",
     "output_type": "stream",
     "text": [
      "[nltk_data] Downloading package stopwords to\n",
      "[nltk_data]     C:\\Users\\wunderbarx\\AppData\\Roaming\\nltk_data...\n",
      "[nltk_data]   Package stopwords is already up-to-date!\n",
      "[nltk_data] Downloading package wordnet to\n",
      "[nltk_data]     C:\\Users\\wunderbarx\\AppData\\Roaming\\nltk_data...\n",
      "[nltk_data]   Package wordnet is already up-to-date!\n",
      "[nltk_data] Downloading package punkt to\n",
      "[nltk_data]     C:\\Users\\wunderbarx\\AppData\\Roaming\\nltk_data...\n",
      "[nltk_data]   Package punkt is already up-to-date!\n"
     ]
    },
    {
     "data": {
      "text/plain": [
       "True"
      ]
     },
     "execution_count": 1,
     "metadata": {},
     "output_type": "execute_result"
    }
   ],
   "source": [
    "import pandas as pd # our main data management package\n",
    "import matplotlib.pyplot as plt # our main display package\n",
    "import string # used for preprocessing\n",
    "import re # used for preprocessing\n",
    "import nltk # the Natural Language Toolkit, used for preprocessing\n",
    "import numpy as np # used for managing NaNs\n",
    "import nltk\n",
    "from nltk.tokenize import word_tokenize\n",
    "from nltk.corpus import stopwords # used for preprocessing\n",
    "from nltk.stem import WordNetLemmatizer # used for preprocessing\n",
    "from sklearn.feature_extraction.text import TfidfVectorizer\n",
    "from sklearn.linear_model import LogisticRegression # our model\n",
    "from sklearn.model_selection import train_test_split\n",
    "nltk.download('stopwords')\n",
    "nltk.download('wordnet')\n",
    "nltk.download('punkt')"
   ]
  },
  {
   "cell_type": "markdown",
   "metadata": {
    "colab_type": "text",
    "id": "6Gbm2AivbAYL"
   },
   "source": [
    "Now let's download the data from Kaggle, upload \"train.csv\" and \"test.csv\" to Collab and read both as data frames in Pandas. In order to upload data, you need to save the data from [here]( https://www.kaggle.com/c/nlp-getting-started/data) locally and point the location of \"train.csv\" and \"test.csv\" in the pop-up window, after clicking \"wybierz pliki\"/\"select files\". \n",
    "\n",
    "\n",
    "Expected output after running below cell and selecting files is as follows:  \n",
    "test.csv(text/csv) - 420783 bytes, last modified: 16.12.2019 - 100% done\n",
    "\n",
    "train.csv(text/csv) - 987712 bytes, last modified: 16.12.2019 - 100% done\n",
    "\n",
    "Saving test.csv to test (1).csv\n",
    "\n",
    "Saving train.csv to train.csv\n",
    "\n",
    "User uploaded file \"test.csv\" with length 420783 bytes\n",
    "\n",
    "User uploaded file \"train.csv\" with length 987712 bytes\n"
   ]
  },
  {
   "cell_type": "code",
   "execution_count": 1,
   "metadata": {
    "colab": {
     "base_uri": "https://localhost:8080/",
     "height": 142,
     "resources": {
      "http://localhost:8080/nbextensions/google.colab/files.js": {
       "data": "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",
       "headers": [
        [
         "content-type",
         "application/javascript"
        ]
       ],
       "ok": true,
       "status": 200,
       "status_text": ""
      }
     }
    },
    "colab_type": "code",
    "id": "vz-jH8T_Uk2c",
    "outputId": "dc4ec0b7-5756-4d4a-d371-14853cee418d"
   },
   "outputs": [],
   "source": [
    "# from google.colab import files\n",
    "\n",
    "# uploaded = files.upload()\n",
    "\n",
    "# for fn in uploaded.keys():\n",
    "#   print('User uploaded file \"{name}\" with length {length} bytes'.format(\n",
    "#       name=fn, length=len(uploaded[fn])))"
   ]
  },
  {
   "cell_type": "code",
   "execution_count": 6,
   "metadata": {
    "colab": {},
    "colab_type": "code",
    "id": "aCXhHI9hbLth"
   },
   "outputs": [],
   "source": [
    "train = pd.read_csv('data/train.csv')\n",
    "test = pd.read_csv('data/test.csv')"
   ]
  },
  {
   "cell_type": "markdown",
   "metadata": {
    "colab_type": "text",
    "id": "RornB1OtNcM0"
   },
   "source": [
    "Let's check if the data was properly imported and learn a bit more about it's content."
   ]
  },
  {
   "cell_type": "code",
   "execution_count": 7,
   "metadata": {
    "colab": {
     "base_uri": "https://localhost:8080/",
     "height": 204
    },
    "colab_type": "code",
    "id": "C6ssg0waa3wd",
    "outputId": "f71f54d5-eeaa-4c41-d719-eb6fb9f630f6"
   },
   "outputs": [
    {
     "data": {
      "text/html": [
       "<div>\n",
       "<style scoped>\n",
       "    .dataframe tbody tr th:only-of-type {\n",
       "        vertical-align: middle;\n",
       "    }\n",
       "\n",
       "    .dataframe tbody tr th {\n",
       "        vertical-align: top;\n",
       "    }\n",
       "\n",
       "    .dataframe thead th {\n",
       "        text-align: right;\n",
       "    }\n",
       "</style>\n",
       "<table border=\"1\" class=\"dataframe\">\n",
       "  <thead>\n",
       "    <tr style=\"text-align: right;\">\n",
       "      <th></th>\n",
       "      <th>id</th>\n",
       "      <th>keyword</th>\n",
       "      <th>location</th>\n",
       "      <th>text</th>\n",
       "      <th>target</th>\n",
       "    </tr>\n",
       "  </thead>\n",
       "  <tbody>\n",
       "    <tr>\n",
       "      <th>0</th>\n",
       "      <td>1</td>\n",
       "      <td>NaN</td>\n",
       "      <td>NaN</td>\n",
       "      <td>Our Deeds are the Reason of this #earthquake M...</td>\n",
       "      <td>1</td>\n",
       "    </tr>\n",
       "    <tr>\n",
       "      <th>1</th>\n",
       "      <td>4</td>\n",
       "      <td>NaN</td>\n",
       "      <td>NaN</td>\n",
       "      <td>Forest fire near La Ronge Sask. Canada</td>\n",
       "      <td>1</td>\n",
       "    </tr>\n",
       "    <tr>\n",
       "      <th>2</th>\n",
       "      <td>5</td>\n",
       "      <td>NaN</td>\n",
       "      <td>NaN</td>\n",
       "      <td>All residents asked to 'shelter in place' are ...</td>\n",
       "      <td>1</td>\n",
       "    </tr>\n",
       "    <tr>\n",
       "      <th>3</th>\n",
       "      <td>6</td>\n",
       "      <td>NaN</td>\n",
       "      <td>NaN</td>\n",
       "      <td>13,000 people receive #wildfires evacuation or...</td>\n",
       "      <td>1</td>\n",
       "    </tr>\n",
       "    <tr>\n",
       "      <th>4</th>\n",
       "      <td>7</td>\n",
       "      <td>NaN</td>\n",
       "      <td>NaN</td>\n",
       "      <td>Just got sent this photo from Ruby #Alaska as ...</td>\n",
       "      <td>1</td>\n",
       "    </tr>\n",
       "  </tbody>\n",
       "</table>\n",
       "</div>"
      ],
      "text/plain": [
       "   id keyword location                                               text  \\\n",
       "0   1     NaN      NaN  Our Deeds are the Reason of this #earthquake M...   \n",
       "1   4     NaN      NaN             Forest fire near La Ronge Sask. Canada   \n",
       "2   5     NaN      NaN  All residents asked to 'shelter in place' are ...   \n",
       "3   6     NaN      NaN  13,000 people receive #wildfires evacuation or...   \n",
       "4   7     NaN      NaN  Just got sent this photo from Ruby #Alaska as ...   \n",
       "\n",
       "   target  \n",
       "0       1  \n",
       "1       1  \n",
       "2       1  \n",
       "3       1  \n",
       "4       1  "
      ]
     },
     "execution_count": 7,
     "metadata": {},
     "output_type": "execute_result"
    }
   ],
   "source": [
    "train.head()"
   ]
  },
  {
   "cell_type": "markdown",
   "metadata": {
    "colab_type": "text",
    "id": "Gk1SkgQ1OdI-"
   },
   "source": [
    "The Disaster Tweets data consists of five  columns: \"id\" “keyword”, “location”, “text”, and “target”. “keyword” refers to the specific word in the tweet that signified potential disaster. “location” data exists only if the Twitter user tagged a location when they sent the tweet. “text” contains the text of the tweet. Finally, “target” is our dependent variable — 1 if the tweet refers to a legitimate disaster and 0 if the tweet is a false positive."
   ]
  },
  {
   "cell_type": "markdown",
   "metadata": {
    "colab_type": "text",
    "id": "PWhfogWSOp_J"
   },
   "source": [
    "Clearly, there are a lot of NaNs in the “keyword” and “location” columns. How many, though? The density of data in those columns could be a concern."
   ]
  },
  {
   "cell_type": "code",
   "execution_count": 8,
   "metadata": {
    "colab": {
     "base_uri": "https://localhost:8080/",
     "height": 221
    },
    "colab_type": "code",
    "id": "4vQxCRufOr3w",
    "outputId": "9fc5eebf-5952-4fbc-8831-b2e75f71a938"
   },
   "outputs": [
    {
     "name": "stdout",
     "output_type": "stream",
     "text": [
      "id          7613\n",
      "keyword     7552\n",
      "location    5080\n",
      "text        7613\n",
      "target      7613\n",
      "dtype: int64\n",
      "id          100.000000\n",
      "keyword      99.198739\n",
      "location     66.727965\n",
      "text        100.000000\n",
      "target      100.000000\n",
      "dtype: float64\n"
     ]
    }
   ],
   "source": [
    "train_count=train.count()\n",
    "print(train_count)\n",
    "print(train_count/train_count[0]*100)"
   ]
  },
  {
   "cell_type": "markdown",
   "metadata": {
    "colab_type": "text",
    "id": "28ecDmhGO3H8"
   },
   "source": [
    "keyword” actually has 99% density but “location” only has 67% density. We’ll drop it because it’s missing so much data. We will also drop “keyword” but for a different reason. “keyword” is repetitive because it simply contains a word from “text”. “keyword” will offer zero insight in finding the distinction between a disaster tweet and a non-disaster tweet that both have the keyword “ablaze”. We will drop both columns and move forward with only “text” as an independent variable. “text” has 100% density."
   ]
  },
  {
   "cell_type": "code",
   "execution_count": 9,
   "metadata": {
    "colab": {},
    "colab_type": "code",
    "id": "_M9VVJpGO7vQ"
   },
   "outputs": [],
   "source": [
    "train = train.drop(['keyword', 'location'], axis = 1)"
   ]
  },
  {
   "cell_type": "code",
   "execution_count": 10,
   "metadata": {
    "colab": {
     "base_uri": "https://localhost:8080/",
     "height": 297
    },
    "colab_type": "code",
    "id": "NOBf0E-vNJYM",
    "outputId": "5e8c0054-3ce9-4c1d-c46b-ff33720dbaa2"
   },
   "outputs": [
    {
     "data": {
      "text/html": [
       "<div>\n",
       "<style scoped>\n",
       "    .dataframe tbody tr th:only-of-type {\n",
       "        vertical-align: middle;\n",
       "    }\n",
       "\n",
       "    .dataframe tbody tr th {\n",
       "        vertical-align: top;\n",
       "    }\n",
       "\n",
       "    .dataframe thead th {\n",
       "        text-align: right;\n",
       "    }\n",
       "</style>\n",
       "<table border=\"1\" class=\"dataframe\">\n",
       "  <thead>\n",
       "    <tr style=\"text-align: right;\">\n",
       "      <th></th>\n",
       "      <th>id</th>\n",
       "      <th>target</th>\n",
       "    </tr>\n",
       "  </thead>\n",
       "  <tbody>\n",
       "    <tr>\n",
       "      <th>count</th>\n",
       "      <td>7613.000000</td>\n",
       "      <td>7613.00000</td>\n",
       "    </tr>\n",
       "    <tr>\n",
       "      <th>mean</th>\n",
       "      <td>5441.934848</td>\n",
       "      <td>0.42966</td>\n",
       "    </tr>\n",
       "    <tr>\n",
       "      <th>std</th>\n",
       "      <td>3137.116090</td>\n",
       "      <td>0.49506</td>\n",
       "    </tr>\n",
       "    <tr>\n",
       "      <th>min</th>\n",
       "      <td>1.000000</td>\n",
       "      <td>0.00000</td>\n",
       "    </tr>\n",
       "    <tr>\n",
       "      <th>25%</th>\n",
       "      <td>2734.000000</td>\n",
       "      <td>0.00000</td>\n",
       "    </tr>\n",
       "    <tr>\n",
       "      <th>50%</th>\n",
       "      <td>5408.000000</td>\n",
       "      <td>0.00000</td>\n",
       "    </tr>\n",
       "    <tr>\n",
       "      <th>75%</th>\n",
       "      <td>8146.000000</td>\n",
       "      <td>1.00000</td>\n",
       "    </tr>\n",
       "    <tr>\n",
       "      <th>max</th>\n",
       "      <td>10873.000000</td>\n",
       "      <td>1.00000</td>\n",
       "    </tr>\n",
       "  </tbody>\n",
       "</table>\n",
       "</div>"
      ],
      "text/plain": [
       "                 id      target\n",
       "count   7613.000000  7613.00000\n",
       "mean    5441.934848     0.42966\n",
       "std     3137.116090     0.49506\n",
       "min        1.000000     0.00000\n",
       "25%     2734.000000     0.00000\n",
       "50%     5408.000000     0.00000\n",
       "75%     8146.000000     1.00000\n",
       "max    10873.000000     1.00000"
      ]
     },
     "execution_count": 10,
     "metadata": {},
     "output_type": "execute_result"
    }
   ],
   "source": [
    "train.describe()\n",
    "# please do notice that describe function works only with numerical data. Column \"text\" is not described."
   ]
  },
  {
   "cell_type": "markdown",
   "metadata": {
    "colab_type": "text",
    "id": "t1kTH3lHQJ_o"
   },
   "source": [
    "Now let's do a sanity check of test data."
   ]
  },
  {
   "cell_type": "code",
   "execution_count": 11,
   "metadata": {
    "colab": {
     "base_uri": "https://localhost:8080/",
     "height": 204
    },
    "colab_type": "code",
    "id": "CQ4B41joNF0b",
    "outputId": "ee3384fe-1b53-4bbf-b156-70da9250644f"
   },
   "outputs": [
    {
     "data": {
      "text/html": [
       "<div>\n",
       "<style scoped>\n",
       "    .dataframe tbody tr th:only-of-type {\n",
       "        vertical-align: middle;\n",
       "    }\n",
       "\n",
       "    .dataframe tbody tr th {\n",
       "        vertical-align: top;\n",
       "    }\n",
       "\n",
       "    .dataframe thead th {\n",
       "        text-align: right;\n",
       "    }\n",
       "</style>\n",
       "<table border=\"1\" class=\"dataframe\">\n",
       "  <thead>\n",
       "    <tr style=\"text-align: right;\">\n",
       "      <th></th>\n",
       "      <th>id</th>\n",
       "      <th>keyword</th>\n",
       "      <th>location</th>\n",
       "      <th>text</th>\n",
       "    </tr>\n",
       "  </thead>\n",
       "  <tbody>\n",
       "    <tr>\n",
       "      <th>0</th>\n",
       "      <td>0</td>\n",
       "      <td>NaN</td>\n",
       "      <td>NaN</td>\n",
       "      <td>Just happened a terrible car crash</td>\n",
       "    </tr>\n",
       "    <tr>\n",
       "      <th>1</th>\n",
       "      <td>2</td>\n",
       "      <td>NaN</td>\n",
       "      <td>NaN</td>\n",
       "      <td>Heard about #earthquake is different cities, s...</td>\n",
       "    </tr>\n",
       "    <tr>\n",
       "      <th>2</th>\n",
       "      <td>3</td>\n",
       "      <td>NaN</td>\n",
       "      <td>NaN</td>\n",
       "      <td>there is a forest fire at spot pond, geese are...</td>\n",
       "    </tr>\n",
       "    <tr>\n",
       "      <th>3</th>\n",
       "      <td>9</td>\n",
       "      <td>NaN</td>\n",
       "      <td>NaN</td>\n",
       "      <td>Apocalypse lighting. #Spokane #wildfires</td>\n",
       "    </tr>\n",
       "    <tr>\n",
       "      <th>4</th>\n",
       "      <td>11</td>\n",
       "      <td>NaN</td>\n",
       "      <td>NaN</td>\n",
       "      <td>Typhoon Soudelor kills 28 in China and Taiwan</td>\n",
       "    </tr>\n",
       "  </tbody>\n",
       "</table>\n",
       "</div>"
      ],
      "text/plain": [
       "   id keyword location                                               text\n",
       "0   0     NaN      NaN                 Just happened a terrible car crash\n",
       "1   2     NaN      NaN  Heard about #earthquake is different cities, s...\n",
       "2   3     NaN      NaN  there is a forest fire at spot pond, geese are...\n",
       "3   9     NaN      NaN           Apocalypse lighting. #Spokane #wildfires\n",
       "4  11     NaN      NaN      Typhoon Soudelor kills 28 in China and Taiwan"
      ]
     },
     "execution_count": 11,
     "metadata": {},
     "output_type": "execute_result"
    }
   ],
   "source": [
    "test.head()"
   ]
  },
  {
   "cell_type": "code",
   "execution_count": 12,
   "metadata": {
    "colab": {
     "base_uri": "https://localhost:8080/",
     "height": 297
    },
    "colab_type": "code",
    "id": "cxsGz8iPNPzP",
    "outputId": "85278032-b5fd-47aa-af34-a1eba6b458b7"
   },
   "outputs": [
    {
     "data": {
      "text/html": [
       "<div>\n",
       "<style scoped>\n",
       "    .dataframe tbody tr th:only-of-type {\n",
       "        vertical-align: middle;\n",
       "    }\n",
       "\n",
       "    .dataframe tbody tr th {\n",
       "        vertical-align: top;\n",
       "    }\n",
       "\n",
       "    .dataframe thead th {\n",
       "        text-align: right;\n",
       "    }\n",
       "</style>\n",
       "<table border=\"1\" class=\"dataframe\">\n",
       "  <thead>\n",
       "    <tr style=\"text-align: right;\">\n",
       "      <th></th>\n",
       "      <th>id</th>\n",
       "    </tr>\n",
       "  </thead>\n",
       "  <tbody>\n",
       "    <tr>\n",
       "      <th>count</th>\n",
       "      <td>3263.000000</td>\n",
       "    </tr>\n",
       "    <tr>\n",
       "      <th>mean</th>\n",
       "      <td>5427.152927</td>\n",
       "    </tr>\n",
       "    <tr>\n",
       "      <th>std</th>\n",
       "      <td>3146.427221</td>\n",
       "    </tr>\n",
       "    <tr>\n",
       "      <th>min</th>\n",
       "      <td>0.000000</td>\n",
       "    </tr>\n",
       "    <tr>\n",
       "      <th>25%</th>\n",
       "      <td>2683.000000</td>\n",
       "    </tr>\n",
       "    <tr>\n",
       "      <th>50%</th>\n",
       "      <td>5500.000000</td>\n",
       "    </tr>\n",
       "    <tr>\n",
       "      <th>75%</th>\n",
       "      <td>8176.000000</td>\n",
       "    </tr>\n",
       "    <tr>\n",
       "      <th>max</th>\n",
       "      <td>10875.000000</td>\n",
       "    </tr>\n",
       "  </tbody>\n",
       "</table>\n",
       "</div>"
      ],
      "text/plain": [
       "                 id\n",
       "count   3263.000000\n",
       "mean    5427.152927\n",
       "std     3146.427221\n",
       "min        0.000000\n",
       "25%     2683.000000\n",
       "50%     5500.000000\n",
       "75%     8176.000000\n",
       "max    10875.000000"
      ]
     },
     "execution_count": 12,
     "metadata": {},
     "output_type": "execute_result"
    }
   ],
   "source": [
    "test.describe()"
   ]
  },
  {
   "cell_type": "markdown",
   "metadata": {
    "colab_type": "text",
    "id": "33z5Rc1oNkvt"
   },
   "source": [
    "Please notice that only 'id' column is analyzed, as the rest columns contain only \"NaN\" values"
   ]
  },
  {
   "cell_type": "markdown",
   "metadata": {
    "colab_type": "text",
    "id": "zblmmu_Ibkuy"
   },
   "source": [
    "**Preprocessing data and preparing for training classifier**\n",
    "\n",
    "Our preprocessing method consists of two stages: preparation and vectorization. \n",
    "\n",
    "The **preparation** stage consists of steps that clean up the data and cut the fat. The steps are \n",
    "1. removing URLs and Twitter handles\n",
    "2. making all text lowercase\n",
    "3. removing numbers\n",
    "4. removing punctuation\n",
    "5. tokenization\n",
    "6. removing stopwords\n",
    "7. lemmatization.\n"
   ]
  },
  {
   "cell_type": "markdown",
   "metadata": {
    "colab_type": "text",
    "id": "cyDTa5NKeE6i"
   },
   "source": [
    "The **tokenization** step takes a string of text and turns it into a list of tokens (the words). It does so by parsing the string and separating by spaces. This means that ‘hello world’ becomes [‘hello’, ‘world’]. It is important to do this step after the preparation step because tokenization would include punctuation as separate tokens.\n",
    "\n",
    "The **lemmatization** step takes the tokens and breaks each down into its *lemma*. A lemma is essentially the base form of a word, cutting a way conjugation and declension. For example, “different” would become “differ”, “running” would become “run”, and “trucks” would become “truck”. Lemmatization can even turn “was” into “be” because the nltk lemmatizer leverages vocabularies instead of relying solely on an algorithm."
   ]
  },
  {
   "cell_type": "code",
   "execution_count": 13,
   "metadata": {
    "colab": {},
    "colab_type": "code",
    "id": "eg73kv1aNRBh"
   },
   "outputs": [],
   "source": [
    "# remove urls, handles, and the hashtag from hashtags (taken from https://stackoverflow.com/questions/8376691/how-to-remove-hashtag-user-link-of-a-tweet-using-regular-expression)\n",
    "def remove_urls(text):\n",
    "    new_text = ' '.join(re.sub(\"(@[A-Za-z0-9]+)|([^0-9A-Za-z \\t])|(\\w+:\\/\\/\\S+)\",\" \",text).split())\n",
    "    return new_text\n",
    "\n",
    "# make all text lowercase\n",
    "def text_lowercase(text):\n",
    "    return text.lower()\n",
    "\n",
    "# remove numbers\n",
    "def remove_numbers(text):\n",
    "    result = re.sub(r'\\d+', '', text)\n",
    "    return result\n",
    "\n",
    "# remove punctuation\n",
    "def remove_punctuation(text):\n",
    "    translator = str.maketrans('', '', string.punctuation)\n",
    "    return text.translate(translator)\n",
    "\n",
    "# tokenize\n",
    "def tokenize(text):\n",
    "    text = word_tokenize(text)\n",
    "    return text\n",
    "\n",
    "# remove stopwords\n",
    "stop_words = set(stopwords.words('english'))\n",
    "def remove_stopwords(text):\n",
    "    text = [i for i in text if not i in stop_words]\n",
    "    return text\n",
    "    \n",
    "# lemmatize\n",
    "lemmatizer = WordNetLemmatizer()\n",
    "def lemmatize(text):\n",
    "    text = [lemmatizer.lemmatize(token) for token in text]\n",
    "    return text\n",
    "\n",
    "def preprocessing(text):\n",
    "    text = text_lowercase(text)\n",
    "    text = remove_urls(text)\n",
    "    text = remove_numbers(text)\n",
    "    text = remove_punctuation(text)\n",
    "    text = tokenize(text)\n",
    "    text = remove_stopwords(text)\n",
    "    text = lemmatize(text)\n",
    "    text = ' '.join(text)\n",
    "    return text"
   ]
  },
  {
   "cell_type": "markdown",
   "metadata": {
    "colab_type": "text",
    "id": "1cwL3SO0GJ2U"
   },
   "source": [
    "Now let’s put the “text” column through this preprocessing pipeline. We do not have to worry about NaNs because we saw earlier that the “text” column has 100% density."
   ]
  },
  {
   "cell_type": "code",
   "execution_count": 14,
   "metadata": {
    "colab": {},
    "colab_type": "code",
    "id": "diXZM-vTeyAz"
   },
   "outputs": [],
   "source": [
    "pp_text_train = [] # our preprocessed text column\n",
    "for text_data in train['text']:\n",
    "    pp_text_data = preprocessing(text_data)\n",
    "    pp_text_train.append(pp_text_data)\n",
    "train['pp_text'] = pp_text_train # add the preprocessed text as a column"
   ]
  },
  {
   "cell_type": "markdown",
   "metadata": {
    "colab_type": "text",
    "id": "3xr86SlPGVLE"
   },
   "source": [
    "You may have noticed that the preprocessing() function has an extra line, one that rejoins the list of tokens. We actually prefer the list of tokens, but our vectorizer does not accept a list of tokens as input — only strings."
   ]
  },
  {
   "cell_type": "markdown",
   "metadata": {
    "colab_type": "text",
    "id": "Q72Z9CxyGXs_"
   },
   "source": [
    "Let's see the preprocessed data."
   ]
  },
  {
   "cell_type": "code",
   "execution_count": 15,
   "metadata": {
    "colab": {
     "base_uri": "https://localhost:8080/",
     "height": 204
    },
    "colab_type": "code",
    "id": "3rG1ziS1GN7-",
    "outputId": "6e92fe28-8c24-4df8-8e39-aad4a59b372d"
   },
   "outputs": [
    {
     "data": {
      "text/html": [
       "<div>\n",
       "<style scoped>\n",
       "    .dataframe tbody tr th:only-of-type {\n",
       "        vertical-align: middle;\n",
       "    }\n",
       "\n",
       "    .dataframe tbody tr th {\n",
       "        vertical-align: top;\n",
       "    }\n",
       "\n",
       "    .dataframe thead th {\n",
       "        text-align: right;\n",
       "    }\n",
       "</style>\n",
       "<table border=\"1\" class=\"dataframe\">\n",
       "  <thead>\n",
       "    <tr style=\"text-align: right;\">\n",
       "      <th></th>\n",
       "      <th>id</th>\n",
       "      <th>text</th>\n",
       "      <th>target</th>\n",
       "      <th>pp_text</th>\n",
       "    </tr>\n",
       "  </thead>\n",
       "  <tbody>\n",
       "    <tr>\n",
       "      <th>0</th>\n",
       "      <td>1</td>\n",
       "      <td>Our Deeds are the Reason of this #earthquake M...</td>\n",
       "      <td>1</td>\n",
       "      <td>deed reason earthquake may allah forgive u</td>\n",
       "    </tr>\n",
       "    <tr>\n",
       "      <th>1</th>\n",
       "      <td>4</td>\n",
       "      <td>Forest fire near La Ronge Sask. Canada</td>\n",
       "      <td>1</td>\n",
       "      <td>forest fire near la ronge sask canada</td>\n",
       "    </tr>\n",
       "    <tr>\n",
       "      <th>2</th>\n",
       "      <td>5</td>\n",
       "      <td>All residents asked to 'shelter in place' are ...</td>\n",
       "      <td>1</td>\n",
       "      <td>resident asked shelter place notified officer ...</td>\n",
       "    </tr>\n",
       "    <tr>\n",
       "      <th>3</th>\n",
       "      <td>6</td>\n",
       "      <td>13,000 people receive #wildfires evacuation or...</td>\n",
       "      <td>1</td>\n",
       "      <td>people receive wildfire evacuation order calif...</td>\n",
       "    </tr>\n",
       "    <tr>\n",
       "      <th>4</th>\n",
       "      <td>7</td>\n",
       "      <td>Just got sent this photo from Ruby #Alaska as ...</td>\n",
       "      <td>1</td>\n",
       "      <td>got sent photo ruby alaska smoke wildfire pour...</td>\n",
       "    </tr>\n",
       "  </tbody>\n",
       "</table>\n",
       "</div>"
      ],
      "text/plain": [
       "   id                                               text  target  \\\n",
       "0   1  Our Deeds are the Reason of this #earthquake M...       1   \n",
       "1   4             Forest fire near La Ronge Sask. Canada       1   \n",
       "2   5  All residents asked to 'shelter in place' are ...       1   \n",
       "3   6  13,000 people receive #wildfires evacuation or...       1   \n",
       "4   7  Just got sent this photo from Ruby #Alaska as ...       1   \n",
       "\n",
       "                                             pp_text  \n",
       "0         deed reason earthquake may allah forgive u  \n",
       "1              forest fire near la ronge sask canada  \n",
       "2  resident asked shelter place notified officer ...  \n",
       "3  people receive wildfire evacuation order calif...  \n",
       "4  got sent photo ruby alaska smoke wildfire pour...  "
      ]
     },
     "execution_count": 15,
     "metadata": {},
     "output_type": "execute_result"
    }
   ],
   "source": [
    "train.head()"
   ]
  },
  {
   "cell_type": "markdown",
   "metadata": {
    "colab_type": "text",
    "id": "z3YsI-TQGik8"
   },
   "source": [
    "Before we put our train data into the vectorizer, we need to prepare the test data as well. The vectorizer must be fit to the entire corpus of text (including both train and test datasets) in order to transform the train and test data separately."
   ]
  },
  {
   "cell_type": "code",
   "execution_count": 16,
   "metadata": {
    "colab": {},
    "colab_type": "code",
    "id": "NxnuJXcxGZ7i"
   },
   "outputs": [],
   "source": [
    "pp_text_test = [] # our preprocessed text column\n",
    "for text_data in test['text']:\n",
    "    pp_text_data = preprocessing(text_data)\n",
    "    pp_text_test.append(pp_text_data)\n",
    "test['pp_text'] = pp_text_test # add the preprocessed text as a column"
   ]
  },
  {
   "cell_type": "markdown",
   "metadata": {
    "colab_type": "text",
    "id": "5pub4fo1Gom2"
   },
   "source": [
    "Now we combine the train and test ‘pp_text’ columns into our corpus of text."
   ]
  },
  {
   "cell_type": "code",
   "execution_count": 17,
   "metadata": {
    "colab": {},
    "colab_type": "code",
    "id": "zpOdc4lIGl8J"
   },
   "outputs": [],
   "source": [
    "train_text_data = list(train['pp_text'])\n",
    "test_text_data = list(test['pp_text'])\n",
    "corpus = train_text_data + test_text_data"
   ]
  },
  {
   "cell_type": "markdown",
   "metadata": {
    "colab_type": "text",
    "id": "wWJSzsWsGwEE"
   },
   "source": [
    "Now we are ready for the vectorization. We use the handy scikit-learn tool TfidfVectorizer."
   ]
  },
  {
   "cell_type": "code",
   "execution_count": 18,
   "metadata": {
    "colab": {},
    "colab_type": "code",
    "id": "vxMSq5ovGs6v"
   },
   "outputs": [],
   "source": [
    "tf=TfidfVectorizer()\n",
    "# the vectorizer must be fit onto the entire corpus\n",
    "fitted_vectorizer = tf.fit(corpus)"
   ]
  },
  {
   "cell_type": "markdown",
   "metadata": {
    "colab_type": "text",
    "id": "GucOUpktG2Eb"
   },
   "source": [
    "The vectorizer has been fit to the corpus. Now we transform the train and test data. Going forward in this article, we will only use the train_transform data. The test_transform data will be used"
   ]
  },
  {
   "cell_type": "code",
   "execution_count": 19,
   "metadata": {
    "colab": {},
    "colab_type": "code",
    "id": "UhPNzgrAGy_q"
   },
   "outputs": [],
   "source": [
    "# train\n",
    "train_transform = fitted_vectorizer.transform(train['pp_text'])\n",
    "y = train['target']\n",
    "# test\n",
    "test_transform = fitted_vectorizer.transform(test['pp_text'])"
   ]
  },
  {
   "cell_type": "markdown",
   "metadata": {
    "colab_type": "text",
    "id": "4rkmtSKwG69F"
   },
   "source": [
    "We now have two variables ready for regression. The y column is still the ‘target’ column from before, informing us if the tweet is a true disaster tweet or not. The x column looks like this now:"
   ]
  },
  {
   "cell_type": "code",
   "execution_count": 20,
   "metadata": {
    "colab": {
     "base_uri": "https://localhost:8080/",
     "height": 884
    },
    "colab_type": "code",
    "id": "yZzUa33-G4iD",
    "outputId": "e6275bdd-6e07-4b38-c5c5-f98c1e6b18c7"
   },
   "outputs": [
    {
     "name": "stdout",
     "output_type": "stream",
     "text": [
      "  (0, 11223)\t0.3565094534235048\n",
      "  (0, 8491)\t0.30689576472023705\n",
      "  (0, 5201)\t0.47724964027208006\n",
      "  (0, 4146)\t0.33382310221398653\n",
      "  (0, 3403)\t0.5053201351576412\n",
      "  (0, 368)\t0.42914155882309796\n",
      "  (1, 12013)\t0.4999968670933836\n",
      "  (1, 11772)\t0.4999968670933836\n",
      "  (1, 9245)\t0.30535331214468475\n",
      "  (1, 7658)\t0.3540085679476195\n",
      "  (1, 5192)\t0.2947343443136663\n",
      "  (1, 5011)\t0.21426166605848176\n",
      "  (1, 2026)\t0.38557380501712757\n",
      "  (2, 12386)\t0.5666750369385926\n",
      "  (2, 11511)\t0.2678768546920339\n",
      "  (2, 10450)\t0.4588681678344489\n",
      "  (2, 9868)\t0.22129413712583343\n",
      "  (2, 9685)\t0.2286107019766729\n",
      "  (2, 9522)\t0.3359683721273607\n",
      "  (2, 4660)\t0.25719090399439354\n",
      "  (2, 4563)\t0.21106286302334237\n",
      "  (2, 766)\t0.2678768546920339\n",
      "  (3, 15310)\t0.3614357147352493\n",
      "  (3, 11245)\t0.5801828834474566\n",
      "  (3, 10256)\t0.3039464200345903\n",
      "  :\t:\n",
      "  (7610, 14732)\t0.5019800665003111\n",
      "  (7610, 7558)\t0.4786761820583672\n",
      "  (7610, 6109)\t0.5497529715916672\n",
      "  (7611, 13945)\t0.263100092463339\n",
      "  (7611, 13371)\t0.2781595707273074\n",
      "  (7611, 12260)\t0.24489006157073454\n",
      "  (7611, 11640)\t0.27371050150101667\n",
      "  (7611, 10605)\t0.29680514411431547\n",
      "  (7611, 10552)\t0.16924045478676536\n",
      "  (7611, 9454)\t0.250615858887718\n",
      "  (7611, 8007)\t0.2024066506005002\n",
      "  (7611, 7921)\t0.16997275956984345\n",
      "  (7611, 7004)\t0.24489006157073454\n",
      "  (7611, 6867)\t0.18461180920964676\n",
      "  (7611, 2663)\t0.21071015352537217\n",
      "  (7611, 2086)\t0.17604744516757634\n",
      "  (7611, 1367)\t0.5474210030020333\n",
      "  (7612, 15310)\t0.3442049492726007\n",
      "  (7612, 11174)\t0.39839794046847693\n",
      "  (7612, 9491)\t0.359408618850927\n",
      "  (7612, 9325)\t0.2868351922822403\n",
      "  (7612, 7756)\t0.3667140871887605\n",
      "  (7612, 6366)\t0.3153910823339076\n",
      "  (7612, 1985)\t0.32489578307838074\n",
      "  (7612, 24)\t0.41454194561014907\n"
     ]
    }
   ],
   "source": [
    "X=train_transform\n",
    "print(X)\n"
   ]
  },
  {
   "cell_type": "markdown",
   "metadata": {
    "colab_type": "text",
    "id": "LQ1YkcmqRQHn"
   },
   "source": [
    "What just happened? Up until now, all our steps have contributed to preparing the data but have not drastically changed it. Now our data is not even recognizable."
   ]
  },
  {
   "cell_type": "markdown",
   "metadata": {
    "colab_type": "text",
    "id": "Tyj_EsCFRX7V"
   },
   "source": [
    "According to scikit-learn’s website, TfidfVectorizer is actually CountVectorizer followed by TfidfTransformer. CountVectorizer first takes our text documents and tokenizes them, as we did before (but then un-did because this function does not accept tokenized data as input). Once the data have been tokenized, CountVectorizer assembles a bag of words consisting of every unique token and assigning each a number. Finally, CountVectorizer represents the tokenized text data as a matrix of token counts, which looks like this:\n",
    "![image.png](data:image/png;base64,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)"
   ]
  },
  {
   "cell_type": "markdown",
   "metadata": {
    "colab_type": "text",
    "id": "-Q7HOO6IRj-r"
   },
   "source": [
    "This image shows the first six rows of the CountVectorizer matrix. These rows tell us that in document 0, the words 368, 3403, 4146, 5201, 8491, and 11223 all appear once. We are interested in these counts because if a word appears many times in a document, that word is probably very significant."
   ]
  },
  {
   "cell_type": "markdown",
   "metadata": {
    "colab_type": "text",
    "id": "y4QRZ4oARviD"
   },
   "source": [
    "TfidfTransformer simply transforms this matrix of token counts to a term frequency-inverse document frequency (tf-idf) representation. Using tf-idf is important because simply using token counts can be misleading. Previously, we assumed that if a word appeared many times in a document, it was important. What if that word is extremely common in the entire corpus? Then it’s high frequency in our current document would be less significant, because the word appears so frequently elsewhere."
   ]
  },
  {
   "cell_type": "markdown",
   "metadata": {
    "colab_type": "text",
    "id": "mEWY-JGuR5Di"
   },
   "source": [
    "Tf-idf strikes a balance by taking the term frequency (basically the count) and multiplying it by the inverse document frequency (1/document frequency). This means that if word 1 appears once in document A but also once in the total corpus, while word 2 appears four times in document A but 16 in the total corpus, word 1 will have a tf-idf score of 1.0 while word 2 will only receive a score of 0.25. Word 2’s importance in document A is diluted by its high frequency in the corpus. (This is a simplified explanation of the actual tf-idf equation, which is more complicated.)"
   ]
  },
  {
   "cell_type": "markdown",
   "metadata": {
    "colab_type": "text",
    "id": "zGJPWeSgR-fw"
   },
   "source": [
    "Hence, we arrive at this representation of document 0:\n",
    "![image.png](data:image/png;base64,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)"
   ]
  },
  {
   "cell_type": "markdown",
   "metadata": {
    "colab_type": "text",
    "id": "on7FA8jfSUxH"
   },
   "source": [
    "Notice that in the CountVectorizer representation, all the tokens in document 1 appeared only once. Now, in the tf-idf representation, some tokens have higher scores than others. Tf-idf has added a layer of nuance to our data.\n",
    "Our data is not preprocessed and we are ready to move onto the modeling stage."
   ]
  },
  {
   "cell_type": "markdown",
   "metadata": {
    "colab_type": "text",
    "id": "WNs-fsosSXd7"
   },
   "source": [
    "**Model**\n",
    "\n",
    "Now is a good time to break our data into training set and a validation set."
   ]
  },
  {
   "cell_type": "code",
   "execution_count": 21,
   "metadata": {
    "colab": {},
    "colab_type": "code",
    "id": "3zekA5WgG8zD"
   },
   "outputs": [],
   "source": [
    "X_train, X_test, y_train, y_test = train_test_split(X, y)"
   ]
  },
  {
   "cell_type": "code",
   "execution_count": 29,
   "metadata": {},
   "outputs": [
    {
     "data": {
      "text/plain": [
       "6703    0\n",
       "7033    1\n",
       "46      1\n",
       "3881    0\n",
       "831     0\n",
       "       ..\n",
       "543     0\n",
       "3223    0\n",
       "3957    1\n",
       "1649    0\n",
       "3449    0\n",
       "Name: target, Length: 1904, dtype: int64"
      ]
     },
     "execution_count": 29,
     "metadata": {},
     "output_type": "execute_result"
    }
   ],
   "source": [
    "x = train_test_split(X, y)\n",
    "x[3]"
   ]
  },
  {
   "cell_type": "markdown",
   "metadata": {
    "colab_type": "text",
    "id": "XRyfH-HCSn_8"
   },
   "source": [
    "And now we can train our model, a logistic regression using scikit-learn.\n"
   ]
  },
  {
   "cell_type": "code",
   "execution_count": 22,
   "metadata": {
    "colab": {},
    "colab_type": "code",
    "id": "E537aSZ0SijY"
   },
   "outputs": [],
   "source": [
    "scikit_log_reg = LogisticRegression()\n",
    "model=scikit_log_reg.fit(X_train, y_train)"
   ]
  },
  {
   "cell_type": "markdown",
   "metadata": {
    "colab_type": "text",
    "id": "qtUCa0WpSt7y"
   },
   "source": [
    "**Results**\n",
    "\n",
    "Our model has been trained. Now let’s get its predictions for the validation set."
   ]
  },
  {
   "cell_type": "code",
   "execution_count": 23,
   "metadata": {
    "colab": {},
    "colab_type": "code",
    "id": "GZ2EMM1PSmUy"
   },
   "outputs": [],
   "source": [
    "predictions = model.predict(X_test)\n"
   ]
  },
  {
   "cell_type": "markdown",
   "metadata": {
    "colab_type": "text",
    "id": "zOFrC9_uS4Gc"
   },
   "source": [
    "And the results of testing the model on our validation set?"
   ]
  },
  {
   "cell_type": "code",
   "execution_count": 24,
   "metadata": {
    "colab": {
     "base_uri": "https://localhost:8080/",
     "height": 34
    },
    "colab_type": "code",
    "id": "cYCwf2_ESr2n",
    "outputId": "8b5a47d2-1e97-4b0c-a48d-003a8613513b"
   },
   "outputs": [
    {
     "name": "stdout",
     "output_type": "stream",
     "text": [
      "0.792016806722689\n"
     ]
    }
   ],
   "source": [
    "count = 0\n",
    "for guess, answer in zip(predictions, y_test):\n",
    "    if guess == answer:\n",
    "        count += 1\n",
    "print(count/len(y_test))"
   ]
  },
  {
   "cell_type": "markdown",
   "metadata": {
    "colab_type": "text",
    "id": "arSJ8OchTKix"
   },
   "source": [
    "This result is significantly better than flipping a coin, which is a good sign. To really know if our model is performing well, we would have to compare it to other people’s performance on the Kaggle leaderboards."
   ]
  },
  {
   "cell_type": "markdown",
   "metadata": {
    "colab_type": "text",
    "id": "SbZBnMuATPcp"
   },
   "source": [
    "Preprocessing text data is a long process but is actually quite straightforward. Although the preprocessing for different text data science tasks may differ, learning about one text preprocessing example can be infinitely helpful when you have to do text preprocessing the next time. I hope you found this guide to text preprocessing with Python helpful.\n",
    "If you want to finalize your Kaggle submission, the only remaining steps are using our trained model to predict for the test_transform data, formatting and exporting those results, and submitting them to Kaggle. These steps are shown in my Gist for this article here."
   ]
  }
 ],
 "metadata": {
  "colab": {
   "collapsed_sections": [],
   "name": "text-data-preprocessing.ipynb",
   "provenance": []
  },
  "kernelspec": {
   "display_name": "Python 3",
   "language": "python",
   "name": "python3"
  },
  "language_info": {
   "codemirror_mode": {
    "name": "ipython",
    "version": 3
   },
   "file_extension": ".py",
   "mimetype": "text/x-python",
   "name": "python",
   "nbconvert_exporter": "python",
   "pygments_lexer": "ipython3",
   "version": "3.7.6"
  }
 },
 "nbformat": 4,
 "nbformat_minor": 1
}
